{
 "cells": [
  {
   "cell_type": "code",
   "execution_count": 5,
   "id": "ee69030e",
   "metadata": {},
   "outputs": [
    {
     "name": "stdout",
     "output_type": "stream",
     "text": [
      "{'Annualized Return (%)': 8.452900185960566, 'Annualized Volatility (%)': 18.51400801544317, 'Annualized Sharpe Ratio': 0.45656781497068116, 'Skewness': 0.1560814766802238, 'Excess Kurtosis': 7.413300610425784}\n"
     ]
    }
   ],
   "source": [
    "import pandas as pd\n",
    "import numpy as np\n",
    "from scipy.stats import skew, kurtosis\n",
    "\n",
    "# Loading the CSV file into a dataframe\n",
    "data_df = pd.read_csv(\"F-F_Research_Data_Factors.CSV\", skiprows=3, skipfooter=2, engine='python')\n",
    "\n",
    "# Filtering the data for the period from July 1926 to July 2023\n",
    "filtered_data = data_df[(data_df[\"Unnamed: 0\"].astype(str) >= \"192607\") & (data_df[\"Unnamed: 0\"].astype(str) <= \"202307\")].copy()\n",
    "\n",
    "# Converting columns to numeric\n",
    "for column in [\"Mkt-RF\", \"SMB\", \"HML\", \"RF\"]:\n",
    "    filtered_data.loc[:, column] = pd.to_numeric(filtered_data[column], errors='coerce')\n",
    "\n",
    "# Computing the metrics for Mkt-RF (VW-CRSP index excess return)\n",
    "\n",
    "# Annualized return\n",
    "annualized_return_Mkt_RF = ((1 + filtered_data[\"Mkt-RF\"].mean()/100)**12 - 1) * 100\n",
    "\n",
    "# Annualized volatility\n",
    "annualized_volatility_Mkt_RF = filtered_data[\"Mkt-RF\"].std() * np.sqrt(12)\n",
    "\n",
    "# Annualized Sharpe ratio\n",
    "annualized_sharpe_ratio_Mkt_RF = annualized_return_Mkt_RF / annualized_volatility_Mkt_RF\n",
    "\n",
    "# Skewness\n",
    "skewness_Mkt_RF = skew(filtered_data[\"Mkt-RF\"].dropna())\n",
    "\n",
    "# Excess kurtosis\n",
    "excess_kurtosis_Mkt_RF = kurtosis(filtered_data[\"Mkt-RF\"].dropna())\n",
    "\n",
    "metrics_Mkt_RF = {\n",
    "    \"Annualized Return (%)\": annualized_return_Mkt_RF,\n",
    "    \"Annualized Volatility (%)\": annualized_volatility_Mkt_RF,\n",
    "    \"Annualized Sharpe Ratio\": annualized_sharpe_ratio_Mkt_RF,\n",
    "    \"Skewness\": skewness_Mkt_RF,\n",
    "    \"Excess Kurtosis\": excess_kurtosis_Mkt_RF\n",
    "}\n",
    "\n",
    "print(metrics_Mkt_RF)\n"
   ]
  },
  {
   "cell_type": "code",
   "execution_count": 6,
   "id": "19a1cae6",
   "metadata": {},
   "outputs": [
    {
     "data": {
      "text/plain": [
       "{'Annualized Return (%)': 11.953903667954435,\n",
       " 'Annualized Volatility (%)': 18.4770160160292,\n",
       " 'Annualized Sharpe Ratio': 0.6469607244797629,\n",
       " 'Skewness': 0.129396706085884,\n",
       " 'Excess Kurtosis': 7.396835953894598}"
      ]
     },
     "execution_count": 6,
     "metadata": {},
     "output_type": "execute_result"
    }
   ],
   "source": [
    "# Computing Rm (Market Return) = Mkt-RF + RF\n",
    "filtered_data[\"Rm\"] = filtered_data[\"Mkt-RF\"] + filtered_data[\"RF\"]\n",
    "\n",
    "# Computing the metrics for Rm (Fama and French's Market excess return)\n",
    "\n",
    "# Annualized return\n",
    "annualized_return_Rm = ((1 + filtered_data[\"Rm\"].mean()/100)**12 - 1) * 100\n",
    "\n",
    "# Annualized volatility\n",
    "annualized_volatility_Rm = filtered_data[\"Rm\"].std() * np.sqrt(12)\n",
    "\n",
    "# Annualized Sharpe ratio\n",
    "annualized_sharpe_ratio_Rm = annualized_return_Rm / annualized_volatility_Rm\n",
    "\n",
    "# Skewness\n",
    "skewness_Rm = skew(filtered_data[\"Rm\"].dropna())\n",
    "\n",
    "# Excess kurtosis\n",
    "excess_kurtosis_Rm = kurtosis(filtered_data[\"Rm\"].dropna())\n",
    "\n",
    "metrics_Rm = {\n",
    "    \"Annualized Return (%)\": annualized_return_Rm,\n",
    "    \"Annualized Volatility (%)\": annualized_volatility_Rm,\n",
    "    \"Annualized Sharpe Ratio\": annualized_sharpe_ratio_Rm,\n",
    "    \"Skewness\": skewness_Rm,\n",
    "    \"Excess Kurtosis\": excess_kurtosis_Rm\n",
    "}\n",
    "\n",
    "metrics_Rm"
   ]
  },
  {
   "cell_type": "code",
   "execution_count": null,
   "id": "d5352a07",
   "metadata": {},
   "outputs": [],
   "source": []
  }
 ],
 "metadata": {
  "kernelspec": {
   "display_name": "Python 3 (ipykernel)",
   "language": "python",
   "name": "python3"
  },
  "language_info": {
   "codemirror_mode": {
    "name": "ipython",
    "version": 3
   },
   "file_extension": ".py",
   "mimetype": "text/x-python",
   "name": "python",
   "nbconvert_exporter": "python",
   "pygments_lexer": "ipython3",
   "version": "3.9.13"
  }
 },
 "nbformat": 4,
 "nbformat_minor": 5
}
