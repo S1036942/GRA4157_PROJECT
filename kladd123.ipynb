{
 "cells": [
  {
   "cell_type": "markdown",
   "id": "b3e3c837",
   "metadata": {},
   "source": [
    "# Data science project, housing market\n",
    "- data from SSB with sqm prices from different municipalities\n",
    "- compare and analyze in pandas\n",
    "\n",
    "## Questions we seek to answer\n",
    "- Generall pricing statistics over time\n",
    "- Visualizing this by graphs\n",
    "- Comparing factors that influence sqm price\n",
    "    - Avg sqm pricing for each kommune\n",
    "    - compare price and sale frequency\n"
   ]
  },
  {
   "cell_type": "markdown",
   "id": "1e781030",
   "metadata": {},
   "source": [
    "### 1. Import libraries \n"
   ]
  },
  {
   "cell_type": "code",
   "execution_count": 1,
   "id": "21503dbb",
   "metadata": {},
   "outputs": [],
   "source": [
    "import pandas as pd\n",
    "import numpy as np\n",
    "import matplotlib.pyplot as plt"
   ]
  },
  {
   "cell_type": "markdown",
   "id": "46492744",
   "metadata": {},
   "source": [
    "### 2. Read data as df\n"
   ]
  },
  {
   "cell_type": "code",
   "execution_count": 18,
   "id": "5b3f9304",
   "metadata": {},
   "outputs": [
    {
     "data": {
      "text/html": [
       "<div>\n",
       "<style scoped>\n",
       "    .dataframe tbody tr th:only-of-type {\n",
       "        vertical-align: middle;\n",
       "    }\n",
       "\n",
       "    .dataframe tbody tr th {\n",
       "        vertical-align: top;\n",
       "    }\n",
       "\n",
       "    .dataframe thead th {\n",
       "        text-align: right;\n",
       "    }\n",
       "</style>\n",
       "<table border=\"1\" class=\"dataframe\">\n",
       "  <thead>\n",
       "    <tr style=\"text-align: right;\">\n",
       "      <th></th>\n",
       "      <th>region</th>\n",
       "      <th>boligtype</th>\n",
       "      <th>kvartal</th>\n",
       "      <th>Gjennomsnittlig kvadratmeterpris (kr)</th>\n",
       "      <th>Antall boligomsetninger</th>\n",
       "    </tr>\n",
       "  </thead>\n",
       "  <tbody>\n",
       "    <tr>\n",
       "      <th>count</th>\n",
       "      <td>23430</td>\n",
       "      <td>23430</td>\n",
       "      <td>23430</td>\n",
       "      <td>23430</td>\n",
       "      <td>23430</td>\n",
       "    </tr>\n",
       "    <tr>\n",
       "      <th>unique</th>\n",
       "      <td>110</td>\n",
       "      <td>3</td>\n",
       "      <td>71</td>\n",
       "      <td>8767</td>\n",
       "      <td>461</td>\n",
       "    </tr>\n",
       "    <tr>\n",
       "      <th>top</th>\n",
       "      <td>3001 Halden</td>\n",
       "      <td>Eneboliger</td>\n",
       "      <td>2006K1</td>\n",
       "      <td>.</td>\n",
       "      <td>.</td>\n",
       "    </tr>\n",
       "    <tr>\n",
       "      <th>freq</th>\n",
       "      <td>213</td>\n",
       "      <td>7810</td>\n",
       "      <td>330</td>\n",
       "      <td>12172</td>\n",
       "      <td>12172</td>\n",
       "    </tr>\n",
       "  </tbody>\n",
       "</table>\n",
       "</div>"
      ],
      "text/plain": [
       "             region   boligtype kvartal Gjennomsnittlig kvadratmeterpris (kr)  \\\n",
       "count         23430       23430   23430                                 23430   \n",
       "unique          110           3      71                                  8767   \n",
       "top     3001 Halden  Eneboliger  2006K1                                     .   \n",
       "freq            213        7810     330                                 12172   \n",
       "\n",
       "       Antall boligomsetninger  \n",
       "count                    23430  \n",
       "unique                     461  \n",
       "top                          .  \n",
       "freq                     12172  "
      ]
     },
     "execution_count": 18,
     "metadata": {},
     "output_type": "execute_result"
    }
   ],
   "source": [
    "# Reading the uploaded CSV file, skipping the first row and using the second row as column headers\n",
    "df = pd.read_csv('data_semi.csv', sep=';', encoding='ISO-8859-1', skiprows=1)\n",
    "df"
   ]
  },
  {
   "cell_type": "markdown",
   "id": "a3b9b44b",
   "metadata": {},
   "source": [
    "### 3. Clean data/remove none values"
   ]
  },
  {
   "cell_type": "code",
   "execution_count": 17,
   "id": "6d64408a",
   "metadata": {},
   "outputs": [
    {
     "data": {
      "text/html": [
       "<div>\n",
       "<style scoped>\n",
       "    .dataframe tbody tr th:only-of-type {\n",
       "        vertical-align: middle;\n",
       "    }\n",
       "\n",
       "    .dataframe tbody tr th {\n",
       "        vertical-align: top;\n",
       "    }\n",
       "\n",
       "    .dataframe thead th {\n",
       "        text-align: right;\n",
       "    }\n",
       "</style>\n",
       "<table border=\"1\" class=\"dataframe\">\n",
       "  <thead>\n",
       "    <tr style=\"text-align: right;\">\n",
       "      <th></th>\n",
       "      <th>region</th>\n",
       "      <th>boligtype</th>\n",
       "      <th>kvartal</th>\n",
       "      <th>Gjennomsnittlig kvadratmeterpris (kr)</th>\n",
       "      <th>Antall boligomsetninger</th>\n",
       "    </tr>\n",
       "  </thead>\n",
       "  <tbody>\n",
       "    <tr>\n",
       "      <th>56</th>\n",
       "      <td>3001 Halden</td>\n",
       "      <td>Eneboliger</td>\n",
       "      <td>2020K1</td>\n",
       "      <td>21216.0</td>\n",
       "      <td>35.0</td>\n",
       "    </tr>\n",
       "    <tr>\n",
       "      <th>57</th>\n",
       "      <td>3001 Halden</td>\n",
       "      <td>Eneboliger</td>\n",
       "      <td>2020K2</td>\n",
       "      <td>22759.0</td>\n",
       "      <td>64.0</td>\n",
       "    </tr>\n",
       "    <tr>\n",
       "      <th>58</th>\n",
       "      <td>3001 Halden</td>\n",
       "      <td>Eneboliger</td>\n",
       "      <td>2020K3</td>\n",
       "      <td>25283.0</td>\n",
       "      <td>69.0</td>\n",
       "    </tr>\n",
       "    <tr>\n",
       "      <th>59</th>\n",
       "      <td>3001 Halden</td>\n",
       "      <td>Eneboliger</td>\n",
       "      <td>2020K4</td>\n",
       "      <td>24944.0</td>\n",
       "      <td>52.0</td>\n",
       "    </tr>\n",
       "    <tr>\n",
       "      <th>60</th>\n",
       "      <td>3001 Halden</td>\n",
       "      <td>Eneboliger</td>\n",
       "      <td>2021K1</td>\n",
       "      <td>26665.0</td>\n",
       "      <td>31.0</td>\n",
       "    </tr>\n",
       "  </tbody>\n",
       "</table>\n",
       "</div>"
      ],
      "text/plain": [
       "         region   boligtype kvartal  Gjennomsnittlig kvadratmeterpris (kr)  \\\n",
       "56  3001 Halden  Eneboliger  2020K1                                21216.0   \n",
       "57  3001 Halden  Eneboliger  2020K2                                22759.0   \n",
       "58  3001 Halden  Eneboliger  2020K3                                25283.0   \n",
       "59  3001 Halden  Eneboliger  2020K4                                24944.0   \n",
       "60  3001 Halden  Eneboliger  2021K1                                26665.0   \n",
       "\n",
       "    Antall boligomsetninger  \n",
       "56                     35.0  \n",
       "57                     64.0  \n",
       "58                     69.0  \n",
       "59                     52.0  \n",
       "60                     31.0  "
      ]
     },
     "execution_count": 17,
     "metadata": {},
     "output_type": "execute_result"
    }
   ],
   "source": [
    "# Replace both '.' and '..' with NaN\n",
    "df.replace(['.', '..'], np.nan, inplace=True)\n",
    "\n",
    "# Convert pandas NA to numpy NaN in the specific columns\n",
    "df['Gjennomsnittlig kvadratmeterpris (kr)'] = pd.to_numeric(df['Gjennomsnittlig kvadratmeterpris (kr)'], errors='coerce')\n",
    "df['Antall boligomsetninger'] = pd.to_numeric(df['Antall boligomsetninger'], errors='coerce')\n",
    "\n",
    "# Remove rows where both 'Gjennomsnittlig kvadratmeterpris (kr)' and 'Antall boligomsetninger' are NaN\n",
    "data_cleaned = df.dropna(subset=['Gjennomsnittlig kvadratmeterpris (kr)', 'Antall boligomsetninger'], how='all')\n",
    "\n",
    "# Display the first few rows of the cleaned dataset\n",
    "data_cleaned.head()\n"
   ]
  },
  {
   "cell_type": "markdown",
   "id": "82ae1ae5",
   "metadata": {},
   "source": [
    "### Present relevant statistics from the data"
   ]
  },
  {
   "cell_type": "code",
   "execution_count": 15,
   "id": "b1f40990",
   "metadata": {},
   "outputs": [
    {
     "data": {
      "text/html": [
       "<div>\n",
       "<style scoped>\n",
       "    .dataframe tbody tr th:only-of-type {\n",
       "        vertical-align: middle;\n",
       "    }\n",
       "\n",
       "    .dataframe tbody tr th {\n",
       "        vertical-align: top;\n",
       "    }\n",
       "\n",
       "    .dataframe thead th {\n",
       "        text-align: right;\n",
       "    }\n",
       "</style>\n",
       "<table border=\"1\" class=\"dataframe\">\n",
       "  <thead>\n",
       "    <tr style=\"text-align: right;\">\n",
       "      <th></th>\n",
       "      <th>Gjennomsnittlig kvadratmeterpris (kr)</th>\n",
       "      <th>Antall boligomsetninger</th>\n",
       "    </tr>\n",
       "  </thead>\n",
       "  <tbody>\n",
       "    <tr>\n",
       "      <th>count</th>\n",
       "      <td>10032.000000</td>\n",
       "      <td>11257.000000</td>\n",
       "    </tr>\n",
       "    <tr>\n",
       "      <th>mean</th>\n",
       "      <td>29158.910287</td>\n",
       "      <td>62.666785</td>\n",
       "    </tr>\n",
       "    <tr>\n",
       "      <th>std</th>\n",
       "      <td>11790.950962</td>\n",
       "      <td>150.066972</td>\n",
       "    </tr>\n",
       "    <tr>\n",
       "      <th>min</th>\n",
       "      <td>7120.000000</td>\n",
       "      <td>1.000000</td>\n",
       "    </tr>\n",
       "    <tr>\n",
       "      <th>25%</th>\n",
       "      <td>20647.000000</td>\n",
       "      <td>16.000000</td>\n",
       "    </tr>\n",
       "    <tr>\n",
       "      <th>50%</th>\n",
       "      <td>26742.000000</td>\n",
       "      <td>32.000000</td>\n",
       "    </tr>\n",
       "    <tr>\n",
       "      <th>75%</th>\n",
       "      <td>35049.000000</td>\n",
       "      <td>63.000000</td>\n",
       "    </tr>\n",
       "    <tr>\n",
       "      <th>max</th>\n",
       "      <td>99872.000000</td>\n",
       "      <td>2567.000000</td>\n",
       "    </tr>\n",
       "  </tbody>\n",
       "</table>\n",
       "</div>"
      ],
      "text/plain": [
       "       Gjennomsnittlig kvadratmeterpris (kr)  Antall boligomsetninger\n",
       "count                           10032.000000             11257.000000\n",
       "mean                            29158.910287                62.666785\n",
       "std                             11790.950962               150.066972\n",
       "min                              7120.000000                 1.000000\n",
       "25%                             20647.000000                16.000000\n",
       "50%                             26742.000000                32.000000\n",
       "75%                             35049.000000                63.000000\n",
       "max                             99872.000000              2567.000000"
      ]
     },
     "execution_count": 15,
     "metadata": {},
     "output_type": "execute_result"
    }
   ],
   "source": [
    "# 1. Basic statistics for the entire dataframe\n",
    "basic_statistics = data_cleaned.describe()\n",
    "\n",
    "basic_statistics"
   ]
  },
  {
   "cell_type": "markdown",
   "id": "f251b102",
   "metadata": {},
   "source": [
    "### Average price by region"
   ]
  },
  {
   "cell_type": "code",
   "execution_count": 21,
   "id": "39e0b520",
   "metadata": {},
   "outputs": [
    {
     "data": {
      "text/html": [
       "<div>\n",
       "<style scoped>\n",
       "    .dataframe tbody tr th:only-of-type {\n",
       "        vertical-align: middle;\n",
       "    }\n",
       "\n",
       "    .dataframe tbody tr th {\n",
       "        vertical-align: top;\n",
       "    }\n",
       "\n",
       "    .dataframe thead th {\n",
       "        text-align: right;\n",
       "    }\n",
       "</style>\n",
       "<table border=\"1\" class=\"dataframe\">\n",
       "  <thead>\n",
       "    <tr style=\"text-align: right;\">\n",
       "      <th></th>\n",
       "      <th>boligtype</th>\n",
       "      <th>Gjennomsnittlig kvadratmeterpris (kr)</th>\n",
       "    </tr>\n",
       "  </thead>\n",
       "  <tbody>\n",
       "    <tr>\n",
       "      <th>0</th>\n",
       "      <td>Blokkleiligheter</td>\n",
       "      <td>36223.135957</td>\n",
       "    </tr>\n",
       "    <tr>\n",
       "      <th>2</th>\n",
       "      <td>Småhus</td>\n",
       "      <td>27229.327068</td>\n",
       "    </tr>\n",
       "    <tr>\n",
       "      <th>1</th>\n",
       "      <td>Eneboliger</td>\n",
       "      <td>24348.821695</td>\n",
       "    </tr>\n",
       "  </tbody>\n",
       "</table>\n",
       "</div>"
      ],
      "text/plain": [
       "          boligtype  Gjennomsnittlig kvadratmeterpris (kr)\n",
       "0  Blokkleiligheter                           36223.135957\n",
       "2            Småhus                           27229.327068\n",
       "1        Eneboliger                           24348.821695"
      ]
     },
     "execution_count": 21,
     "metadata": {},
     "output_type": "execute_result"
    }
   ],
   "source": [
    "# Calculate the average price by region\n",
    "average_price_by_region = data_cleaned.groupby('boligtype')['Gjennomsnittlig kvadratmeterpris (kr)'].mean().reset_index()\n",
    "\n",
    "# Sort the table by average price in descending order for better visualization\n",
    "average_price_by_region = average_price_by_region.sort_values(by='Gjennomsnittlig kvadratmeterpris (kr)', ascending=False)\n",
    "\n",
    "average_price_by_region.head()"
   ]
  },
  {
   "cell_type": "code",
   "execution_count": null,
   "id": "37f38704",
   "metadata": {},
   "outputs": [],
   "source": []
  },
  {
   "cell_type": "code",
   "execution_count": null,
   "id": "db55badf",
   "metadata": {},
   "outputs": [],
   "source": []
  },
  {
   "cell_type": "code",
   "execution_count": null,
   "id": "c4ab751e",
   "metadata": {},
   "outputs": [],
   "source": []
  },
  {
   "cell_type": "code",
   "execution_count": null,
   "id": "fd6c98c5",
   "metadata": {},
   "outputs": [],
   "source": []
  },
  {
   "cell_type": "code",
   "execution_count": 8,
   "id": "418d5a61",
   "metadata": {},
   "outputs": [],
   "source": [
    "# 1. Summary of the average square meter price across different regions\n",
    "avg_price_by_region = df.groupby('region')['Gjennomsnittlig kvadratmeterpris (kr)'].mean().sort_values(ascending=False)\n"
   ]
  },
  {
   "cell_type": "code",
   "execution_count": 9,
   "id": "e0f3d8c5",
   "metadata": {},
   "outputs": [
    {
     "data": {
      "image/png": "[encoded data removed]",
      "text/plain": [
       "<Figure size 1500x700 with 1 Axes>"
      ]
     },
     "metadata": {},
     "output_type": "display_data"
    }
   ],
   "source": [
    "# 2. Trends in the average square meter price over the quarters\n",
    "avg_price_by_quarter = df.groupby('kvartal')['Gjennomsnittlig kvadratmeterpris (kr)'].mean()\n",
    "\n",
    "plt.figure(figsize=(15, 7))\n",
    "avg_price_by_quarter.plot()\n",
    "plt.title('Trends in Average Square Meter Price Over Quarters')\n",
    "plt.ylabel('Average Price (kr)')\n",
    "plt.xlabel('Quarter')\n",
    "plt.xticks(rotation=45)\n",
    "plt.tight_layout()\n",
    "plt.show()"
   ]
  },
  {
   "cell_type": "code",
   "execution_count": null,
   "id": "33508893",
   "metadata": {},
   "outputs": [],
   "source": []
  },
  {
   "cell_type": "markdown",
   "id": "6d85236e",
   "metadata": {},
   "source": [
    "Average price by region\n"
   ]
  },
  {
   "cell_type": "markdown",
   "id": "1a5207cb",
   "metadata": {},
   "source": [
    "Compare average price to amount of transactions, table?\n"
   ]
  },
  {
   "cell_type": "markdown",
   "id": "876c40f2",
   "metadata": {},
   "source": [
    "Housing types and sqm price differences"
   ]
  },
  {
   "cell_type": "markdown",
   "id": "868bc789",
   "metadata": {},
   "source": [
    "Compare the omsetning to sqm price and visa verca to determine if omsetning amount means higher price"
   ]
  },
  {
   "cell_type": "code",
   "execution_count": null,
   "id": "807471dd",
   "metadata": {},
   "outputs": [],
   "source": []
  }
 ],
 "metadata": {
  "kernelspec": {
   "display_name": "Python 3 (ipykernel)",
   "language": "python",
   "name": "python3"
  },
  "language_info": {
   "codemirror_mode": {
    "name": "ipython",
    "version": 3
   },
   "file_extension": ".py",
   "mimetype": "text/x-python",
   "name": "python",
   "nbconvert_exporter": "python",
   "pygments_lexer": "ipython3",
   "version": "3.9.13"
  }
 },
 "nbformat": 4,
 "nbformat_minor": 5
}
